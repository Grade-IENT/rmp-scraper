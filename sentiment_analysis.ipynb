{
 "cells": [
  {
   "cell_type": "code",
   "execution_count": null,
   "metadata": {
    "vscode": {
     "languageId": "plaintext"
    }
   },
   "outputs": [],
   "source": [
    "import pandas as pd\n",
    "from textblob import TextBlob\n",
    "\n",
    "# Load the reviews from the file\n",
    "file_path = \"/mnt/data/CENTENO.txt\"\n",
    "\n",
    "with open(file_path, \"r\", encoding=\"utf-8\") as file:\n",
    "    reviews = file.readlines()\n",
    "\n",
    "# Perform sentiment analysis\n",
    "sentiments = [TextBlob(review).sentiment.polarity for review in reviews]\n",
    "\n",
    "# Create a dataframe\n",
    "df = pd.DataFrame({\"Review\": reviews, \"Sentiment\": sentiments})\n",
    "\n",
    "# Categorize sentiment\n",
    "df[\"Sentiment Category\"] = df[\"Sentiment\"].apply(\n",
    "    lambda x: \"Positive\" if x > 0 else \"Negative\" if x < 0 else \"Neutral\"\n",
    ")\n",
    "\n",
    "# Display results\n",
    "import ace_tools as tools\n",
    "tools.display_dataframe_to_user(name=\"Sentiment Analysis\", dataframe=df)\n",
    "\n",
    "# Generate a summary paragraph based on the analysis\n",
    "positive_reviews = df[df[\"Sentiment\"] > 0].shape[0]\n",
    "negative_reviews = df[df[\"Sentiment\"] < 0].shape[0]\n",
    "neutral_reviews = df[df[\"Sentiment\"] == 0].shape[0]\n",
    "total_reviews = df.shape[0]\n",
    "\n",
    "summary_paragraph = (\n",
    "    f\"Professor Centeno receives overwhelmingly positive feedback from students, with {positive_reviews} out of \"\n",
    "    f\"{total_reviews} reviews expressing satisfaction with her teaching style, engagement, and support. Many students \"\n",
    "    f\"praise her ability to explain complex concepts clearly, provide extra credit opportunities, and foster an inclusive \"\n",
    "    f\"learning environment. However, there are {negative_reviews} critical reviews, which mention issues such as off-topic \"\n",
    "    f\"lectures, challenging exams, and strict grading policies. Additionally, {neutral_reviews} reviews offer a balanced \"\n",
    "    f\"perspective, acknowledging both strengths and areas for improvement. Overall, she is regarded as a passionate and \"\n",
    "    f\"dedicated professor who significantly impacts her students' learning experiences.\"\n",
    ")\n",
    "\n",
    "summary_paragraph\n"
   ]
  }
 ],
 "metadata": {
  "language_info": {
   "name": "python"
  }
 },
 "nbformat": 4,
 "nbformat_minor": 2
}
