{
 "cells": [
  {
   "cell_type": "code",
   "execution_count": 1,
   "id": "a7ff8564-209a-403f-bc48-26f53622f71b",
   "metadata": {},
   "outputs": [
    {
     "name": "stdout",
     "output_type": "stream",
     "text": [
      "We love Dean Jean Patrick Antoine. He is the King of the Honors Academy.\n",
      "Dean Jean is the best. Very approachable, cares about you, and is very helpful. He is my most favorite person at Rutgers.\n",
      "Really encourages students to get involved on campus. Shows an interest in helping students prosper. Is available by appointment and likes when student come to see him. Is willing to help out in virtually any problem you are having. Overall a great dean!\n",
      "Great Dean and Professor. Really cares about the students. But you have to be willing to seek his help and guidance. You have to take the first step, then he'll be able to help you more.\n",
      "Amazing professor! Really cares for his students' success and pushes everyone to give it their all. Definitely has been my favorite professor so far!\n",
      "I love this human being\n",
      "Likes to use class time in a valuable way\n",
      "Literally the most amazing professor in the world\n",
      "Guy's a beast\n",
      "Great Dean/Professor\n",
      "\n"
     ]
    }
   ],
   "source": [
    "from selenium import webdriver\n",
    "from selenium.webdriver.common.by import By\n",
    "from selenium.webdriver.chrome.service import Service\n",
    "from webdriver_manager.chrome import ChromeDriverManager\n",
    "import time\n",
    "\n",
    "options = webdriver.ChromeOptions()\n",
    "options.add_argument(\"--headless\")\n",
    "service = Service(ChromeDriverManager().install())\n",
    "driver = webdriver.Chrome(service=service, options=options)\n",
    "\n",
    "url = \"https://www.ratemyprofessors.com/professor/2106403\" #Dean Antoine\n",
    "# url = \"https://www.ratemyprofessors.com/professor/1753955\" #Drazer\n",
    "# url = \"https://www.ratemyprofessors.com/professor/2008587\" # Yuebin Guo\n",
    "driver.get(url)\n",
    "\n",
    "time.sleep(5)\n",
    "\n",
    "reviews = \"\"\n",
    "comments = driver.find_elements(By.CSS_SELECTOR, \"[class*=Comments]\")\n",
    "for comment in comments:\n",
    "    if comment.text:\n",
    "        reviews += comment.text + \"\\n\"\n",
    "\n",
    "driver.quit()\n",
    "\n",
    "print(reviews)\n"
   ]
  },
  {
   "cell_type": "code",
   "execution_count": 2,
   "id": "2650c0d1-31cf-4b86-b65c-1620c700dc6f",
   "metadata": {},
   "outputs": [
    {
     "name": "stdout",
     "output_type": "stream",
     "text": [
      "{\"model\":\"mistral-small:latest\",\"created_at\":\"2025-02-05T16:07:19.7373532Z\",\"response\":\" Professor Antoine is highly regarded for his approachability, dedication to student success, and willingness to help with virtually any problem. He encourages students to get involved on campus and shows genuine interest in their prosperity. However, students must be proactive in seeking his guidance.\",\"done\":true,\"done_reason\":\"stop\",\"context\":[29473,3,7695,4247,1421,1040,3064,12960,11005,1065,29473,29518,29501,29538,24516,1137,16411,13552,2713,4337,1452,1040,12960,29491,3725,11005,1228,1122,26839,12960,29491,3962,10189,1163,1040,3253,14828,1072,3279,1880,1093,2278,14519,29493,17912,4337,29493,5113,16513,4771,1228,1040,11005,29515,29473,781,3092,2784,18146,7487,14455,4589,22033,29491,1418,1117,1040,4809,1070,1040,8441,1502,11587,29491,781,4105,1044,7487,1117,1040,2257,29491,14417,5199,1290,29493,23106,1452,1136,29493,1072,1117,1983,11633,29491,1418,1117,1354,1848,7424,2106,1206,1167,1097,8618,29491,781,2693,1346,6959,2059,4335,1066,1393,6058,1124,15134,29491,2063,4379,1164,2913,1065,9306,4335,21582,29491,2459,3400,1254,15119,1072,13440,1507,6484,2335,1066,1800,1481,29491,2459,8581,1066,2084,1343,1065,18394,1475,3468,1136,1228,3229,29491,21781,1032,2366,1108,1044,29576,781,27083,18146,1072,12730,29491,20161,23106,1452,1040,4335,29491,1860,1136,1274,1066,1115,8581,1066,6463,1284,2084,1072,16756,29491,1763,1274,1066,2156,1040,1675,4475,29493,1636,1168,29510,1352,1115,3126,1066,2084,1136,1448,29491,781,27566,1056,12960,29576,20161,23106,1122,1284,4335,29510,3056,1072,1052,18393,4144,1066,2879,1146,1420,1312,29491,5135,18298,1427,1518,1354,7424,12960,1347,2850,29576,781,29505,2784,1224,3698,2018,781,29526,15621,1066,1706,1643,1495,1065,1032,13070,1837,781,29526,2453,1346,1040,1848,7589,12960,1065,1040,2294,781,29545,5301,29510,29481,1032,24456,781,27083,18146,29516,1701,29490,1177,1039,781,29473,4,12730,4589,22033,1117,7184,16158,1122,1284,5199,3205,29493,6357,4464,1066,6484,3056,29493,1072,8581,2235,1066,2084,1163,18394,1475,3468,29491,1418,6959,2059,4335,1066,1393,6058,1124,15134,1072,5138,17736,2913,1065,1420,21582,1240,29491,3761,29493,4335,2348,1115,1198,4908,1065,12014,1284,16756,29491],\"total_duration\":9169605700,\"load_duration\":10001400,\"prompt_eval_count\":282,\"prompt_eval_duration\":877000000,\"eval_count\":58,\"eval_duration\":8276000000}\n"
     ]
    }
   ],
   "source": [
    "import requests\n",
    "import json\n",
    "url = \"http://localhost:11434/api/generate\"\n",
    "data = {\n",
    "    # \"model\": \"deepseek-r1:14b\",\n",
    "    \"model\": \"mistral-small:latest\",\n",
    "\t# \"format\": \"json\",\n",
    "\t\"stream\": False,\n",
    "    # \"prompt\": \"hello\"\n",
    "    \"prompt\": \"Summarize the following professor reviews in 2-3 sentences that briefly covers key points about the professor. These reviews are for ONE professor. Just respond with the short summary and nothing else (no lists, bullet points, etc.). Here are the reviews: \\n\" + reviews\n",
    "}\n",
    "\n",
    "headers = {'Content-Type': 'application/json'}\n",
    "\n",
    "response = requests.post(url, data=json.dumps(data), headers=headers)\n",
    "\n",
    "if response.status_code == 200:\n",
    "    print(response.text)  # Print the response content\n",
    "else:\n",
    "    print(f\"Error: {response.status_code}\")\n",
    "    print(response.text) # Print the error message"
   ]
  },
  {
   "cell_type": "code",
   "execution_count": 3,
   "id": "8d2e13a7-6aeb-4e75-ac92-0bfae6c0ac1f",
   "metadata": {},
   "outputs": [
    {
     "name": "stdout",
     "output_type": "stream",
     "text": [
      "Professor Antoine is highly regarded for his approachability, dedication to student success, and willingness to help with virtually any problem. He encourages students to get involved on campus and shows genuine interest in their prosperity. However, students must be proactive in seeking his guidance.\n"
     ]
    }
   ],
   "source": [
    "json.dumps(response.text)\n",
    "\n",
    "resp = json.loads(response.text)\n",
    "# data\n",
    "resp['response']\n",
    "\n",
    "response_text = resp.get(\"response\", \"\").replace(\"\\n\", \" \").strip()\n",
    "\n",
    "# Remove leading and trailing curly braces if present\n",
    "if response_text.startswith(\"{\") and response_text.endswith(\"}\"):\n",
    "    response_text = response_text[1:-1].strip()\n",
    "\n",
    "print(response_text)"
   ]
  }
 ],
 "metadata": {
  "kernelspec": {
   "display_name": "Python 3 (ipykernel)",
   "language": "python",
   "name": "python3"
  },
  "language_info": {
   "codemirror_mode": {
    "name": "ipython",
    "version": 3
   },
   "file_extension": ".py",
   "mimetype": "text/x-python",
   "name": "python",
   "nbconvert_exporter": "python",
   "pygments_lexer": "ipython3",
   "version": "3.10.6"
  }
 },
 "nbformat": 4,
 "nbformat_minor": 5
}
