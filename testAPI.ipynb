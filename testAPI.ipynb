{
 "cells": [
  {
   "cell_type": "code",
   "execution_count": 1,
   "id": "f71af00d-443e-4f10-92c4-26e543090273",
   "metadata": {},
   "outputs": [],
   "source": [
    "import requests\n",
    "import json"
   ]
  },
  {
   "cell_type": "code",
   "execution_count": 2,
   "id": "6893e779-b484-43de-b935-10d8f05ee58c",
   "metadata": {},
   "outputs": [
    {
     "name": "stdout",
     "output_type": "stream",
     "text": [
      "[{\"campusLocations\":[{\"code\":\"O\",\"description\":\"O\"}],\"subject\":\"013\",\"openSections\":0,\"synopsisUrl\":\n"
     ]
    }
   ],
   "source": [
    "term = 1\n",
    "year = 2025\n",
    "campus=\"NB\"\n",
    "url = f\"http://classes.rutgers.edu/soc/api/courses.json?year={year}&term={term}&campus={campus}\"\n",
    "headers = {\n",
    "    'Accept': 'application/json, text/javascript',\n",
    "\t'Accept-Encoding': 'gzip, deflate, br',\n",
    "\t'User-Agent': 'Mozilla/5.0 (Windows NT 10.0; Win64; x64) AppleWebKit/537.36 (KHTML, like Gecko) Chrome/91.0.4472.124 Safari/537.36'\n",
    "}\n",
    "response = requests.get(url, headers=headers)\n",
    "response.raise_for_status()\n",
    "print(response.text[0:100])"
   ]
  },
  {
   "cell_type": "code",
   "execution_count": 3,
   "id": "bd0f3be3-6157-4e59-bfe0-7f5a23222eea",
   "metadata": {},
   "outputs": [
    {
     "name": "stdout",
     "output_type": "stream",
     "text": [
      "{\n",
      "  \"Number Of Open Sections\": 0\n",
      "}\n",
      "[]\n",
      "{\n",
      "  \"Number Of Closed Sections\": 13\n",
      "}\n",
      "[\n",
      "  {\n",
      "    \"Section\": \"01\",\n",
      "    \"Index\": \"10567\",\n",
      "    \"Instructor\": \"GALE, ABRAHAM\"\n",
      "  },\n",
      "  {\n",
      "    \"Section\": \"02\",\n",
      "    \"Index\": \"10568\",\n",
      "    \"Instructor\": \"GALE, ABRAHAM\"\n",
      "  },\n",
      "  {\n",
      "    \"Section\": \"03\",\n",
      "    \"Index\": \"10569\",\n",
      "    \"Instructor\": \"GALE, ABRAHAM\"\n",
      "  },\n",
      "  {\n",
      "    \"Section\": \"04\",\n",
      "    \"Index\": \"10570\",\n",
      "    \"Instructor\": \"GALE, ABRAHAM\"\n",
      "  },\n",
      "  {\n",
      "    \"Section\": \"05\",\n",
      "    \"Index\": \"10571\",\n",
      "    \"Instructor\": \"GALE, ABRAHAM\"\n",
      "  },\n",
      "  {\n",
      "    \"Section\": \"06\",\n",
      "    \"Index\": \"10572\",\n",
      "    \"Instructor\": \"MIRANDA GARCIA\"\n",
      "  },\n",
      "  {\n",
      "    \"Section\": \"07\",\n",
      "    \"Index\": \"10573\",\n",
      "    \"Instructor\": \"MIRANDA GARCIA\"\n",
      "  },\n",
      "  {\n",
      "    \"Section\": \"08\",\n",
      "    \"Index\": \"10574\",\n",
      "    \"Instructor\": \"MIRANDA GARCIA\"\n",
      "  },\n",
      "  {\n",
      "    \"Section\": \"09\",\n",
      "    \"Index\": \"10575\",\n",
      "    \"Instructor\": \"MIRANDA GARCIA\"\n",
      "  },\n",
      "  {\n",
      "    \"Section\": \"10\",\n",
      "    \"Index\": \"10576\",\n",
      "    \"Instructor\": \"MIRANDA GARCIA\"\n",
      "  },\n",
      "  {\n",
      "    \"Section\": \"11\",\n",
      "    \"Index\": \"23867\",\n",
      "    \"Instructor\": \"SCHOEPFLIN\"\n",
      "  },\n",
      "  {\n",
      "    \"Section\": \"12\",\n",
      "    \"Index\": \"23868\",\n",
      "    \"Instructor\": \"SCHOEPFLIN\"\n",
      "  },\n",
      "  {\n",
      "    \"Section\": \"13\",\n",
      "    \"Index\": \"23869\",\n",
      "    \"Instructor\": \"SCHOEPFLIN\"\n",
      "  }\n",
      "]\n"
     ]
    }
   ],
   "source": [
    "courses = response.json()\n",
    "school = \"01\"\n",
    "# school = \"14\"\n",
    "subject_code = 198\n",
    "# subject_code = 440\n",
    "course_number = 205\n",
    "# course_number = 396\n",
    "\n",
    "courseString = \"01:198:205\"\n",
    "\n",
    "# course_json = next((course for course in courses if course.get(\"courseString\") == f\"{school}:{subject_code}:{course_number}\"), None)\n",
    "course_json = next((course for course in courses if course.get(\"courseString\") == courseString), None)\n",
    "if not course_json:\n",
    "    # print(f\"Course {school}:{subject_code}:{course_number} not found.\")\n",
    "    print(f\"Course {courseString} not found.\")\n",
    "open_sections = len([section for section in course_json.get(\"sections\", []) if section.get(\"openStatusText\") == \"OPEN\"])\n",
    "print(json.dumps({\"Number Of Open Sections\": open_sections}, indent=2))\n",
    "open_section_details = [\n",
    "    {\n",
    "        \"Section\": section.get(\"number\"),\n",
    "        \"Index\": section.get(\"index\"),\n",
    "        \"Instructor\": section.get(\"instructors\", [{}])[0].get(\"name\", \"Unknown\")\n",
    "    }\n",
    "    for section in course_json.get(\"sections\", []) if section.get(\"openStatusText\") == \"OPEN\"\n",
    "]\n",
    "print(json.dumps(open_section_details, indent=2))\n",
    "closed_sections = len([section for section in course_json.get(\"sections\", []) if section.get(\"openStatusText\") == \"CLOSED\"])\n",
    "print(json.dumps({\"Number Of Closed Sections\": closed_sections}, indent=2))\n",
    "closed_section_details = [\n",
    "    {\n",
    "        \"Section\": section.get(\"number\"),\n",
    "        \"Index\": section.get(\"index\"),\n",
    "        \"Instructor\": section.get(\"instructors\", [{}])[0].get(\"name\", \"Unknown\")\n",
    "    }\n",
    "    for section in course_json.get(\"sections\", []) if section.get(\"openStatusText\") == \"CLOSED\"\n",
    "]\n",
    "print(json.dumps(closed_section_details, indent=2))"
   ]
  },
  {
   "cell_type": "code",
   "execution_count": 51,
   "id": "438cd5d4-9a6f-439e-a5ba-da89094ee75d",
   "metadata": {},
   "outputs": [
    {
     "name": "stdout",
     "output_type": "stream",
     "text": [
      "{\"campusLocations\": [{\"code\": \"2\", \"description\": \"Busch\"}, {\"code\": \"3\", \"description\": \"Livingston\"}], \"subject\": \"198\", \"openSections\": 0, \"synopsisUrl\": \"http://www.cs.rutgers.edu/undergraduate/courses/\", \"title\": \"INTRO ARTIFIC INTELL\", \"preReqNotes\": \"((01:198:205 INTRODUCTION TO DISCRETE STRUCTURES I  or 14:332:202 DISCRETE MATH ECE  or 14:332:312 DISCRETE MATHEMATICS ECE ) and (01:640:152 CALCULUS II FOR MATHEMATICAL AND PHYSICAL SCIENCES )) <em> OR </em> ((01:198:205 INTRODUCTION TO DISCRETE STRUCTURES I  or 14:332:202 DISCRETE MATH ECE  or 14:332:312 DISCRETE MATHEMATICS ECE ) and (01:640:192 HONORS CALCULUS II ))\", \"courseString\": \"01:198:440\", \"school\": {\"code\": \"01\", \"description\": \"School of Arts and Sciences\"}, \"credits\": 4, \"subjectDescription\": \"Computer Science\", \"coreCodes\": [], \"expandedTitle\": \"INTRODUCTION TO ARTIFICIAL INTELLIGENCE                                         \", \"mainCampus\": \"NB\", \"subjectNotes\": \"\", \"courseNumber\": \"440\", \"creditsObject\": {\"code\": \"4_0\", \"description\": \"4.0 credits\"}, \"level\": \"U\", \"campusCode\": \"NB\", \"subjectGroupNotes\": \"\", \"offeringUnitCode\": \"01\", \"offeringUnitTitle\": null, \"courseDescription\": \"\", \"sections\": [{\"sectionEligibility\": \"\", \"sessionDatePrintIndicator\": \"N\", \"examCode\": \"A\", \"specialPermissionAddCode\": null, \"crossListedSections\": [], \"sectionNotes\": \"\", \"specialPermissionDropCode\": null, \"crossListedSectionType\": \"0\", \"instructors\": [{\"name\": \"BOULARIAS\"}], \"number\": \"01\", \"majors\": [{\"code\": \"185\", \"isUnitCode\": false, \"isMajorCode\": true}, {\"code\": \"198\", \"isUnitCode\": false, \"isMajorCode\": true}], \"openToText\": \"MAJ: 185 (Cognitive Science), 198 (Computer Science); MINOR: 198 (Computer Science)\", \"openStatusText\": \"CLOSED\", \"sessionDates\": null, \"specialPermissionDropCodeDescription\": null, \"subtopic\": \"\", \"courseFeeDescr\": null, \"openStatus\": false, \"comments\": [{\"code\": \"05\", \"description\": \"Go to http://canvas.rutgers.edu\"}], \"instructorsText\": \"BOULARIAS\", \"minors\": [{\"code\": \"198\"}], \"examCodeText\": \"By arrangement\", \"campusCode\": \"NB\", \"sectionCampusLocations\": [{\"code\": \"3\", \"description\": \"Livingston\"}], \"index\": \"10669\", \"unitMajors\": [], \"printed\": \"Y\", \"specialPermissionAddCodeDescription\": null, \"courseFee\": \"0000.00\", \"commentsText\": \"Go to http://canvas.rutgers.edu\", \"subtitle\": \"\", \"crossListedSectionsText\": \"\", \"sectionCourseType\": \"T\", \"meetingTimes\": [{\"campusLocation\": \"3\", \"roomNumber\": \"232\", \"campusAbbrev\": \"LIV\", \"campusName\": \"LIVINGSTON\", \"startTimeMilitary\": \"1210\", \"buildingCode\": \"TIL\", \"meetingModeDesc\": \"LEC\", \"endTimeMilitary\": \"1330\", \"meetingModeCode\": \"02\", \"baClassHours\": \"\", \"pmCode\": \"P\", \"meetingDay\": \"W\", \"startTime\": \"1210\", \"endTime\": \"0130\"}, {\"campusLocation\": \"3\", \"roomNumber\": \"232\", \"campusAbbrev\": \"LIV\", \"campusName\": \"LIVINGSTON\", \"startTimeMilitary\": \"1400\", \"buildingCode\": \"TIL\", \"meetingModeDesc\": \"LEC\", \"endTimeMilitary\": \"1520\", \"meetingModeCode\": \"02\", \"baClassHours\": \"\", \"pmCode\": \"P\", \"meetingDay\": \"F\", \"startTime\": \"0200\", \"endTime\": \"0320\"}, {\"campusLocation\": \"3\", \"roomNumber\": \"246\", \"campusAbbrev\": \"LIV\", \"campusName\": \"LIVINGSTON\", \"startTimeMilitary\": \"1755\", \"buildingCode\": \"TIL\", \"meetingModeDesc\": \"RECIT\", \"endTimeMilitary\": \"1850\", \"meetingModeCode\": \"03\", \"baClassHours\": \"\", \"pmCode\": \"P\", \"meetingDay\": \"W\", \"startTime\": \"0555\", \"endTime\": \"0650\"}], \"legendKey\": null, \"honorPrograms\": []}, {\"sectionEligibility\": \"\", \"sessionDatePrintIndicator\": \"N\", \"examCode\": \"A\", \"specialPermissionAddCode\": null, \"crossListedSections\": [], \"sectionNotes\": \"\", \"specialPermissionDropCode\": null, \"crossListedSectionType\": \"0\", \"instructors\": [{\"name\": \"BOULARIAS\"}], \"number\": \"02\", \"majors\": [{\"code\": \"185\", \"isUnitCode\": false, \"isMajorCode\": true}, {\"code\": \"198\", \"isUnitCode\": false, \"isMajorCode\": true}], \"openToText\": \"MAJ: 185 (Cognitive Science), 198 (Computer Science); MINOR: 198 (Computer Science)\", \"openStatusText\": \"CLOSED\", \"sessionDates\": null, \"specialPermissionDropCodeDescription\": null, \"subtopic\": \"\", \"courseFeeDescr\": null, \"openStatus\": false, \"comments\": [{\"code\": \"05\", \"description\": \"Go to http://canvas.rutgers.edu\"}], \"instructorsText\": \"BOULARIAS\", \"minors\": [{\"code\": \"198\"}], \"examCodeText\": \"By arrangement\", \"campusCode\": \"NB\", \"sectionCampusLocations\": [{\"code\": \"3\", \"description\": \"Livingston\"}], \"index\": \"10670\", \"unitMajors\": [], \"printed\": \"Y\", \"specialPermissionAddCodeDescription\": null, \"courseFee\": \"0000.00\", \"commentsText\": \"Go to http://canvas.rutgers.edu\", \"subtitle\": \"\", \"crossListedSectionsText\": \"\", \"sectionCourseType\": \"T\", \"meetingTimes\": [{\"campusLocation\": \"3\", \"roomNumber\": \"232\", \"campusAbbrev\": \"LIV\", \"campusName\": \"LIVINGSTON\", \"startTimeMilitary\": \"1210\", \"buildingCode\": \"TIL\", \"meetingModeDesc\": \"LEC\", \"endTimeMilitary\": \"1330\", \"meetingModeCode\": \"02\", \"baClassHours\": \"\", \"pmCode\": \"P\", \"meetingDay\": \"W\", \"startTime\": \"1210\", \"endTime\": \"0130\"}, {\"campusLocation\": \"3\", \"roomNumber\": \"232\", \"campusAbbrev\": \"LIV\", \"campusName\": \"LIVINGSTON\", \"startTimeMilitary\": \"1400\", \"buildingCode\": \"TIL\", \"meetingModeDesc\": \"LEC\", \"endTimeMilitary\": \"1520\", \"meetingModeCode\": \"02\", \"baClassHours\": \"\", \"pmCode\": \"P\", \"meetingDay\": \"F\", \"startTime\": \"0200\", \"endTime\": \"0320\"}, {\"campusLocation\": \"3\", \"roomNumber\": \"B267\", \"campusAbbrev\": \"LIV\", \"campusName\": \"LIVINGSTON\", \"startTimeMilitary\": \"1605\", \"buildingCode\": \"LSH\", \"meetingModeDesc\": \"RECIT\", \"endTimeMilitary\": \"1700\", \"meetingModeCode\": \"03\", \"baClassHours\": \"\", \"pmCode\": \"P\", \"meetingDay\": \"W\", \"startTime\": \"0405\", \"endTime\": \"0500\"}], \"legendKey\": null, \"honorPrograms\": []}, {\"sectionEligibility\": \"\", \"sessionDatePrintIndicator\": \"N\", \"examCode\": \"A\", \"specialPermissionAddCode\": null, \"crossListedSections\": [], \"sectionNotes\": \"\", \"specialPermissionDropCode\": null, \"crossListedSectionType\": \"0\", \"instructors\": [{\"name\": \"BOULARIAS\"}], \"number\": \"03\", \"majors\": [{\"code\": \"198\", \"isUnitCode\": false, \"isMajorCode\": true}, {\"code\": \"185\", \"isUnitCode\": false, \"isMajorCode\": true}], \"openToText\": \"MAJ: 185 (Cognitive Science), 198 (Computer Science); MINOR: 198 (Computer Science)\", \"openStatusText\": \"CLOSED\", \"sessionDates\": null, \"specialPermissionDropCodeDescription\": null, \"subtopic\": \"\", \"courseFeeDescr\": null, \"openStatus\": false, \"comments\": [{\"code\": \"05\", \"description\": \"Go to http://canvas.rutgers.edu\"}], \"instructorsText\": \"BOULARIAS\", \"minors\": [{\"code\": \"198\"}], \"examCodeText\": \"By arrangement\", \"campusCode\": \"NB\", \"sectionCampusLocations\": [{\"code\": \"3\", \"description\": \"Livingston\"}], \"index\": \"10671\", \"unitMajors\": [], \"printed\": \"Y\", \"specialPermissionAddCodeDescription\": null, \"courseFee\": \"0000.00\", \"commentsText\": \"Go to http://canvas.rutgers.edu\", \"subtitle\": \"\", \"crossListedSectionsText\": \"\", \"sectionCourseType\": \"T\", \"meetingTimes\": [{\"campusLocation\": \"3\", \"roomNumber\": \"232\", \"campusAbbrev\": \"LIV\", \"campusName\": \"LIVINGSTON\", \"startTimeMilitary\": \"1210\", \"buildingCode\": \"TIL\", \"meetingModeDesc\": \"LEC\", \"endTimeMilitary\": \"1330\", \"meetingModeCode\": \"02\", \"baClassHours\": \"\", \"pmCode\": \"P\", \"meetingDay\": \"W\", \"startTime\": \"1210\", \"endTime\": \"0130\"}, {\"campusLocation\": \"3\", \"roomNumber\": \"232\", \"campusAbbrev\": \"LIV\", \"campusName\": \"LIVINGSTON\", \"startTimeMilitary\": \"1400\", \"buildingCode\": \"TIL\", \"meetingModeDesc\": \"LEC\", \"endTimeMilitary\": \"1520\", \"meetingModeCode\": \"02\", \"baClassHours\": \"\", \"pmCode\": \"P\", \"meetingDay\": \"F\", \"startTime\": \"0200\", \"endTime\": \"0320\"}, {\"campusLocation\": \"3\", \"roomNumber\": \"253\", \"campusAbbrev\": \"LIV\", \"campusName\": \"LIVINGSTON\", \"startTimeMilitary\": \"1945\", \"buildingCode\": \"BE\", \"meetingModeDesc\": \"RECIT\", \"endTimeMilitary\": \"2040\", \"meetingModeCode\": \"03\", \"baClassHours\": \"\", \"pmCode\": \"P\", \"meetingDay\": \"W\", \"startTime\": \"0745\", \"endTime\": \"0840\"}], \"legendKey\": null, \"honorPrograms\": []}, {\"sectionEligibility\": \"\", \"sessionDatePrintIndicator\": \"Y\", \"examCode\": \"A\", \"specialPermissionAddCode\": null, \"crossListedSections\": [], \"sectionNotes\": \"\", \"specialPermissionDropCode\": null, \"crossListedSectionType\": \"0\", \"instructors\": [{\"name\": \"KULIKOWSKI\"}], \"number\": \"05\", \"majors\": [{\"code\": \"198\", \"isUnitCode\": false, \"isMajorCode\": true}, {\"code\": \"185\", \"isUnitCode\": false, \"isMajorCode\": true}], \"openToText\": \"MAJ: 185 (Cognitive Science), 198 (Computer Science); MINOR: 198 (Computer Science)\", \"openStatusText\": \"CLOSED\", \"sessionDates\": null, \"specialPermissionDropCodeDescription\": null, \"subtopic\": \"\", \"courseFeeDescr\": null, \"openStatus\": false, \"comments\": [], \"instructorsText\": \"KULIKOWSKI\", \"minors\": [{\"code\": \"198\"}], \"examCodeText\": \"By arrangement\", \"campusCode\": \"NB\", \"sectionCampusLocations\": [{\"code\": \"2\", \"description\": \"Busch\"}], \"index\": \"23237\", \"unitMajors\": [], \"printed\": \"Y\", \"specialPermissionAddCodeDescription\": null, \"courseFee\": \"0000.00\", \"commentsText\": \"\", \"subtitle\": \"\", \"crossListedSectionsText\": \"\", \"sectionCourseType\": \"T\", \"meetingTimes\": [{\"campusLocation\": \"2\", \"roomNumber\": \"108\", \"campusAbbrev\": \"BUS\", \"campusName\": \"BUSCH\", \"startTimeMilitary\": \"0830\", \"buildingCode\": \"FBO\", \"meetingModeDesc\": \"LEC\", \"endTimeMilitary\": \"0950\", \"meetingModeCode\": \"02\", \"baClassHours\": \"\", \"pmCode\": \"A\", \"meetingDay\": \"T\", \"startTime\": \"0830\", \"endTime\": \"0950\"}, {\"campusLocation\": \"2\", \"roomNumber\": \"108\", \"campusAbbrev\": \"BUS\", \"campusName\": \"BUSCH\", \"startTimeMilitary\": \"0830\", \"buildingCode\": \"FBO\", \"meetingModeDesc\": \"LEC\", \"endTimeMilitary\": \"0950\", \"meetingModeCode\": \"02\", \"baClassHours\": \"\", \"pmCode\": \"A\", \"meetingDay\": \"F\", \"startTime\": \"0830\", \"endTime\": \"0950\"}, {\"campusLocation\": \"2\", \"roomNumber\": \"208\", \"campusAbbrev\": \"BUS\", \"campusName\": \"BUSCH\", \"startTimeMilitary\": \"1035\", \"buildingCode\": \"SEC\", \"meetingModeDesc\": \"RECIT\", \"endTimeMilitary\": \"1130\", \"meetingModeCode\": \"03\", \"baClassHours\": \"\", \"pmCode\": \"A\", \"meetingDay\": \"W\", \"startTime\": \"1035\", \"endTime\": \"1130\"}], \"legendKey\": null, \"honorPrograms\": []}, {\"sectionEligibility\": \"\", \"sessionDatePrintIndicator\": \"Y\", \"examCode\": \"A\", \"specialPermissionAddCode\": null, \"crossListedSections\": [], \"sectionNotes\": \"\", \"specialPermissionDropCode\": null, \"crossListedSectionType\": \"0\", \"instructors\": [{\"name\": \"KULIKOWSKI\"}], \"number\": \"06\", \"majors\": [{\"code\": \"185\", \"isUnitCode\": false, \"isMajorCode\": true}, {\"code\": \"198\", \"isUnitCode\": false, \"isMajorCode\": true}], \"openToText\": \"MAJ: 185 (Cognitive Science), 198 (Computer Science); MINOR: 198 (Computer Science)\", \"openStatusText\": \"CLOSED\", \"sessionDates\": null, \"specialPermissionDropCodeDescription\": null, \"subtopic\": \"\", \"courseFeeDescr\": null, \"openStatus\": false, \"comments\": [], \"instructorsText\": \"KULIKOWSKI\", \"minors\": [{\"code\": \"198\"}], \"examCodeText\": \"By arrangement\", \"campusCode\": \"NB\", \"sectionCampusLocations\": [{\"code\": \"2\", \"description\": \"Busch\"}], \"index\": \"23253\", \"unitMajors\": [], \"printed\": \"Y\", \"specialPermissionAddCodeDescription\": null, \"courseFee\": \"0000.00\", \"commentsText\": \"\", \"subtitle\": \"\", \"crossListedSectionsText\": \"\", \"sectionCourseType\": \"T\", \"meetingTimes\": [{\"campusLocation\": \"2\", \"roomNumber\": \"108\", \"campusAbbrev\": \"BUS\", \"campusName\": \"BUSCH\", \"startTimeMilitary\": \"0830\", \"buildingCode\": \"FBO\", \"meetingModeDesc\": \"LEC\", \"endTimeMilitary\": \"0950\", \"meetingModeCode\": \"02\", \"baClassHours\": \"\", \"pmCode\": \"A\", \"meetingDay\": \"T\", \"startTime\": \"0830\", \"endTime\": \"0950\"}, {\"campusLocation\": \"2\", \"roomNumber\": \"108\", \"campusAbbrev\": \"BUS\", \"campusName\": \"BUSCH\", \"startTimeMilitary\": \"0830\", \"buildingCode\": \"FBO\", \"meetingModeDesc\": \"LEC\", \"endTimeMilitary\": \"0950\", \"meetingModeCode\": \"02\", \"baClassHours\": \"\", \"pmCode\": \"A\", \"meetingDay\": \"F\", \"startTime\": \"0830\", \"endTime\": \"0950\"}, {\"campusLocation\": \"2\", \"roomNumber\": \"208\", \"campusAbbrev\": \"BUS\", \"campusName\": \"BUSCH\", \"startTimeMilitary\": \"1605\", \"buildingCode\": \"SEC\", \"meetingModeDesc\": \"RECIT\", \"endTimeMilitary\": \"1700\", \"meetingModeCode\": \"03\", \"baClassHours\": \"\", \"pmCode\": \"P\", \"meetingDay\": \"W\", \"startTime\": \"0405\", \"endTime\": \"0500\"}], \"legendKey\": null, \"honorPrograms\": []}, {\"sectionEligibility\": \"\", \"sessionDatePrintIndicator\": \"Y\", \"examCode\": \"A\", \"specialPermissionAddCode\": null, \"crossListedSections\": [], \"sectionNotes\": \"\", \"specialPermissionDropCode\": null, \"crossListedSectionType\": \"0\", \"instructors\": [{\"name\": \"KULIKOWSKI\"}], \"number\": \"07\", \"majors\": [{\"code\": \"185\", \"isUnitCode\": false, \"isMajorCode\": true}, {\"code\": \"198\", \"isUnitCode\": false, \"isMajorCode\": true}], \"openToText\": \"MAJ: 185 (Cognitive Science), 198 (Computer Science); MINOR: 198 (Computer Science)\", \"openStatusText\": \"CLOSED\", \"sessionDates\": null, \"specialPermissionDropCodeDescription\": null, \"subtopic\": \"\", \"courseFeeDescr\": null, \"openStatus\": false, \"comments\": [], \"instructorsText\": \"KULIKOWSKI\", \"minors\": [{\"code\": \"198\"}], \"examCodeText\": \"By arrangement\", \"campusCode\": \"NB\", \"sectionCampusLocations\": [{\"code\": \"2\", \"description\": \"Busch\"}], \"index\": \"23255\", \"unitMajors\": [], \"printed\": \"Y\", \"specialPermissionAddCodeDescription\": null, \"courseFee\": \"0000.00\", \"commentsText\": \"\", \"subtitle\": \"\", \"crossListedSectionsText\": \"\", \"sectionCourseType\": \"T\", \"meetingTimes\": [{\"campusLocation\": \"2\", \"roomNumber\": \"108\", \"campusAbbrev\": \"BUS\", \"campusName\": \"BUSCH\", \"startTimeMilitary\": \"0830\", \"buildingCode\": \"FBO\", \"meetingModeDesc\": \"LEC\", \"endTimeMilitary\": \"0950\", \"meetingModeCode\": \"02\", \"baClassHours\": \"\", \"pmCode\": \"A\", \"meetingDay\": \"T\", \"startTime\": \"0830\", \"endTime\": \"0950\"}, {\"campusLocation\": \"2\", \"roomNumber\": \"108\", \"campusAbbrev\": \"BUS\", \"campusName\": \"BUSCH\", \"startTimeMilitary\": \"0830\", \"buildingCode\": \"FBO\", \"meetingModeDesc\": \"LEC\", \"endTimeMilitary\": \"0950\", \"meetingModeCode\": \"02\", \"baClassHours\": \"\", \"pmCode\": \"A\", \"meetingDay\": \"F\", \"startTime\": \"0830\", \"endTime\": \"0950\"}, {\"campusLocation\": \"2\", \"roomNumber\": \"208\", \"campusAbbrev\": \"BUS\", \"campusName\": \"BUSCH\", \"startTimeMilitary\": \"1415\", \"buildingCode\": \"SEC\", \"meetingModeDesc\": \"RECIT\", \"endTimeMilitary\": \"1510\", \"meetingModeCode\": \"03\", \"baClassHours\": \"\", \"pmCode\": \"P\", \"meetingDay\": \"T\", \"startTime\": \"0215\", \"endTime\": \"0310\"}], \"legendKey\": null, \"honorPrograms\": []}], \"supplementCode\": \"  \", \"unitNotes\": \"\", \"courseNotes\": \"\"}\n"
     ]
    }
   ],
   "source": [
    "print(json.dumps(course_json))"
   ]
  }
 ],
 "metadata": {
  "kernelspec": {
   "display_name": "Python 3 (ipykernel)",
   "language": "python",
   "name": "python3"
  },
  "language_info": {
   "codemirror_mode": {
    "name": "ipython",
    "version": 3
   },
   "file_extension": ".py",
   "mimetype": "text/x-python",
   "name": "python",
   "nbconvert_exporter": "python",
   "pygments_lexer": "ipython3",
   "version": "3.10.6"
  }
 },
 "nbformat": 4,
 "nbformat_minor": 5
}
